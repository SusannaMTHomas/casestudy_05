{
 "cells": [
  {
   "cell_type": "code",
   "execution_count": 1,
   "id": "a3e5b184",
   "metadata": {},
   "outputs": [],
   "source": [
    "#importing required libraries\n",
    "import pandas as pd\n",
    "import numpy as np\n",
    "import matplotlib.pyplot as plt\n",
    "import seaborn as sns\n",
    "import scipy.stats as stats"
   ]
  },
  {
   "cell_type": "code",
   "execution_count": 2,
   "id": "b66e591b",
   "metadata": {},
   "outputs": [],
   "source": [
    "data=pd.read_csv('Sales_data_zone_wise.csv')"
   ]
  },
  {
   "cell_type": "code",
   "execution_count": 3,
   "id": "2fad32aa",
   "metadata": {},
   "outputs": [
    {
     "data": {
      "text/html": [
       "<div>\n",
       "<style scoped>\n",
       "    .dataframe tbody tr th:only-of-type {\n",
       "        vertical-align: middle;\n",
       "    }\n",
       "\n",
       "    .dataframe tbody tr th {\n",
       "        vertical-align: top;\n",
       "    }\n",
       "\n",
       "    .dataframe thead th {\n",
       "        text-align: right;\n",
       "    }\n",
       "</style>\n",
       "<table border=\"1\" class=\"dataframe\">\n",
       "  <thead>\n",
       "    <tr style=\"text-align: right;\">\n",
       "      <th></th>\n",
       "      <th>Month</th>\n",
       "      <th>Zone - A</th>\n",
       "      <th>Zone - B</th>\n",
       "      <th>Zone - C</th>\n",
       "      <th>Zone - D</th>\n",
       "    </tr>\n",
       "  </thead>\n",
       "  <tbody>\n",
       "    <tr>\n",
       "      <th>0</th>\n",
       "      <td>Month - 1</td>\n",
       "      <td>1483525</td>\n",
       "      <td>1748451</td>\n",
       "      <td>1523308</td>\n",
       "      <td>2267260</td>\n",
       "    </tr>\n",
       "    <tr>\n",
       "      <th>1</th>\n",
       "      <td>Month - 2</td>\n",
       "      <td>1238428</td>\n",
       "      <td>1707421</td>\n",
       "      <td>2212113</td>\n",
       "      <td>1994341</td>\n",
       "    </tr>\n",
       "    <tr>\n",
       "      <th>2</th>\n",
       "      <td>Month - 3</td>\n",
       "      <td>1860771</td>\n",
       "      <td>2091194</td>\n",
       "      <td>1282374</td>\n",
       "      <td>1241600</td>\n",
       "    </tr>\n",
       "    <tr>\n",
       "      <th>3</th>\n",
       "      <td>Month - 4</td>\n",
       "      <td>1871571</td>\n",
       "      <td>1759617</td>\n",
       "      <td>2290580</td>\n",
       "      <td>2252681</td>\n",
       "    </tr>\n",
       "    <tr>\n",
       "      <th>4</th>\n",
       "      <td>Month - 5</td>\n",
       "      <td>1244922</td>\n",
       "      <td>1606010</td>\n",
       "      <td>1818334</td>\n",
       "      <td>1326062</td>\n",
       "    </tr>\n",
       "  </tbody>\n",
       "</table>\n",
       "</div>"
      ],
      "text/plain": [
       "       Month  Zone - A  Zone - B  Zone - C  Zone - D\n",
       "0  Month - 1   1483525   1748451   1523308   2267260\n",
       "1  Month - 2   1238428   1707421   2212113   1994341\n",
       "2  Month - 3   1860771   2091194   1282374   1241600\n",
       "3  Month - 4   1871571   1759617   2290580   2252681\n",
       "4  Month - 5   1244922   1606010   1818334   1326062"
      ]
     },
     "execution_count": 3,
     "metadata": {},
     "output_type": "execute_result"
    }
   ],
   "source": [
    "#Displaying the data\n",
    "data.head()"
   ]
  },
  {
   "cell_type": "code",
   "execution_count": 4,
   "id": "297e4863",
   "metadata": {},
   "outputs": [
    {
     "data": {
      "text/html": [
       "<div>\n",
       "<style scoped>\n",
       "    .dataframe tbody tr th:only-of-type {\n",
       "        vertical-align: middle;\n",
       "    }\n",
       "\n",
       "    .dataframe tbody tr th {\n",
       "        vertical-align: top;\n",
       "    }\n",
       "\n",
       "    .dataframe thead th {\n",
       "        text-align: right;\n",
       "    }\n",
       "</style>\n",
       "<table border=\"1\" class=\"dataframe\">\n",
       "  <thead>\n",
       "    <tr style=\"text-align: right;\">\n",
       "      <th></th>\n",
       "      <th>Zone - A</th>\n",
       "      <th>Zone - B</th>\n",
       "      <th>Zone - C</th>\n",
       "      <th>Zone - D</th>\n",
       "    </tr>\n",
       "  </thead>\n",
       "  <tbody>\n",
       "    <tr>\n",
       "      <th>count</th>\n",
       "      <td>2.900000e+01</td>\n",
       "      <td>2.900000e+01</td>\n",
       "      <td>2.900000e+01</td>\n",
       "      <td>2.900000e+01</td>\n",
       "    </tr>\n",
       "    <tr>\n",
       "      <th>mean</th>\n",
       "      <td>1.540493e+06</td>\n",
       "      <td>1.755560e+06</td>\n",
       "      <td>1.772871e+06</td>\n",
       "      <td>1.842927e+06</td>\n",
       "    </tr>\n",
       "    <tr>\n",
       "      <th>std</th>\n",
       "      <td>2.619401e+05</td>\n",
       "      <td>1.683899e+05</td>\n",
       "      <td>3.331937e+05</td>\n",
       "      <td>3.750165e+05</td>\n",
       "    </tr>\n",
       "    <tr>\n",
       "      <th>min</th>\n",
       "      <td>1.128185e+06</td>\n",
       "      <td>1.527574e+06</td>\n",
       "      <td>1.237722e+06</td>\n",
       "      <td>1.234311e+06</td>\n",
       "    </tr>\n",
       "    <tr>\n",
       "      <th>25%</th>\n",
       "      <td>1.305972e+06</td>\n",
       "      <td>1.606010e+06</td>\n",
       "      <td>1.523308e+06</td>\n",
       "      <td>1.520406e+06</td>\n",
       "    </tr>\n",
       "    <tr>\n",
       "      <th>50%</th>\n",
       "      <td>1.534390e+06</td>\n",
       "      <td>1.740365e+06</td>\n",
       "      <td>1.767047e+06</td>\n",
       "      <td>1.854412e+06</td>\n",
       "    </tr>\n",
       "    <tr>\n",
       "      <th>75%</th>\n",
       "      <td>1.820196e+06</td>\n",
       "      <td>1.875658e+06</td>\n",
       "      <td>2.098463e+06</td>\n",
       "      <td>2.180416e+06</td>\n",
       "    </tr>\n",
       "    <tr>\n",
       "      <th>max</th>\n",
       "      <td>2.004480e+06</td>\n",
       "      <td>2.091194e+06</td>\n",
       "      <td>2.290580e+06</td>\n",
       "      <td>2.364132e+06</td>\n",
       "    </tr>\n",
       "  </tbody>\n",
       "</table>\n",
       "</div>"
      ],
      "text/plain": [
       "           Zone - A      Zone - B      Zone - C      Zone - D\n",
       "count  2.900000e+01  2.900000e+01  2.900000e+01  2.900000e+01\n",
       "mean   1.540493e+06  1.755560e+06  1.772871e+06  1.842927e+06\n",
       "std    2.619401e+05  1.683899e+05  3.331937e+05  3.750165e+05\n",
       "min    1.128185e+06  1.527574e+06  1.237722e+06  1.234311e+06\n",
       "25%    1.305972e+06  1.606010e+06  1.523308e+06  1.520406e+06\n",
       "50%    1.534390e+06  1.740365e+06  1.767047e+06  1.854412e+06\n",
       "75%    1.820196e+06  1.875658e+06  2.098463e+06  2.180416e+06\n",
       "max    2.004480e+06  2.091194e+06  2.290580e+06  2.364132e+06"
      ]
     },
     "execution_count": 4,
     "metadata": {},
     "output_type": "execute_result"
    }
   ],
   "source": [
    "#descriptive statistics\n",
    "data.describe()"
   ]
  },
  {
   "cell_type": "markdown",
   "id": "9a8346c7",
   "metadata": {},
   "source": [
    "# The mean sales generated by each zone."
   ]
  },
  {
   "cell_type": "code",
   "execution_count": 5,
   "id": "eb98809c",
   "metadata": {
    "scrolled": true
   },
   "outputs": [
    {
     "data": {
      "text/plain": [
       "Zone - A    1.540493e+06\n",
       "Zone - B    1.755560e+06\n",
       "Zone - C    1.772871e+06\n",
       "Zone - D    1.842927e+06\n",
       "dtype: float64"
      ]
     },
     "execution_count": 5,
     "metadata": {},
     "output_type": "execute_result"
    }
   ],
   "source": [
    "data.mean()"
   ]
  },
  {
   "cell_type": "code",
   "execution_count": 6,
   "id": "63fc9ad4",
   "metadata": {},
   "outputs": [
    {
     "data": {
      "image/png": "[encoded data removed]",
      "text/plain": [
       "<Figure size 1152x576 with 1 Axes>"
      ]
     },
     "metadata": {
      "needs_background": "light"
     },
     "output_type": "display_data"
    }
   ],
   "source": [
    "#visualising the mean sales generated by each zone\n",
    "plt.figure(figsize=(16,8))\n",
    "fig=data.mean().plot.bar()\n",
    "plt.ylim(0,2500000)\n",
    "plt.title('Mean sales generated by each zone')\n",
    "plt.ylabel('Mean sales')\n",
    "#to get the count displayed on the chart\n",
    "for p in fig.patches:\n",
    "    fig.annotate(round(p.get_height()) , (p.get_x()+0.25, p.get_height()+100000),rotation=90)\n",
    "plt.show()"
   ]
  },
  {
   "cell_type": "markdown",
   "id": "d894a94c",
   "metadata": {},
   "source": [
    "# Total sales generated by all the zones for each month."
   ]
  },
  {
   "cell_type": "code",
   "execution_count": 7,
   "id": "8757f877",
   "metadata": {},
   "outputs": [],
   "source": [
    "data[\"Total_Sales\"]=data['Zone - A']+data['Zone - B']+data['Zone - C']+data['Zone - D']"
   ]
  },
  {
   "cell_type": "code",
   "execution_count": 8,
   "id": "729cbe15",
   "metadata": {},
   "outputs": [
    {
     "data": {
      "text/html": [
       "<div>\n",
       "<style scoped>\n",
       "    .dataframe tbody tr th:only-of-type {\n",
       "        vertical-align: middle;\n",
       "    }\n",
       "\n",
       "    .dataframe tbody tr th {\n",
       "        vertical-align: top;\n",
       "    }\n",
       "\n",
       "    .dataframe thead th {\n",
       "        text-align: right;\n",
       "    }\n",
       "</style>\n",
       "<table border=\"1\" class=\"dataframe\">\n",
       "  <thead>\n",
       "    <tr style=\"text-align: right;\">\n",
       "      <th></th>\n",
       "      <th>Month</th>\n",
       "      <th>Total_Sales</th>\n",
       "    </tr>\n",
       "  </thead>\n",
       "  <tbody>\n",
       "    <tr>\n",
       "      <th>0</th>\n",
       "      <td>Month - 1</td>\n",
       "      <td>7022544</td>\n",
       "    </tr>\n",
       "    <tr>\n",
       "      <th>1</th>\n",
       "      <td>Month - 2</td>\n",
       "      <td>7152303</td>\n",
       "    </tr>\n",
       "    <tr>\n",
       "      <th>2</th>\n",
       "      <td>Month - 3</td>\n",
       "      <td>6475939</td>\n",
       "    </tr>\n",
       "    <tr>\n",
       "      <th>3</th>\n",
       "      <td>Month - 4</td>\n",
       "      <td>8174449</td>\n",
       "    </tr>\n",
       "    <tr>\n",
       "      <th>4</th>\n",
       "      <td>Month - 5</td>\n",
       "      <td>5995328</td>\n",
       "    </tr>\n",
       "    <tr>\n",
       "      <th>5</th>\n",
       "      <td>Month - 6</td>\n",
       "      <td>7151387</td>\n",
       "    </tr>\n",
       "    <tr>\n",
       "      <th>6</th>\n",
       "      <td>Month - 7</td>\n",
       "      <td>7287108</td>\n",
       "    </tr>\n",
       "    <tr>\n",
       "      <th>7</th>\n",
       "      <td>Month - 8</td>\n",
       "      <td>7816299</td>\n",
       "    </tr>\n",
       "    <tr>\n",
       "      <th>8</th>\n",
       "      <td>Month - 9</td>\n",
       "      <td>6703395</td>\n",
       "    </tr>\n",
       "    <tr>\n",
       "      <th>9</th>\n",
       "      <td>Month - 10</td>\n",
       "      <td>7128210</td>\n",
       "    </tr>\n",
       "    <tr>\n",
       "      <th>10</th>\n",
       "      <td>Month - 11</td>\n",
       "      <td>7032783</td>\n",
       "    </tr>\n",
       "    <tr>\n",
       "      <th>11</th>\n",
       "      <td>Month - 12</td>\n",
       "      <td>6111084</td>\n",
       "    </tr>\n",
       "    <tr>\n",
       "      <th>12</th>\n",
       "      <td>Month - 13</td>\n",
       "      <td>5925424</td>\n",
       "    </tr>\n",
       "    <tr>\n",
       "      <th>13</th>\n",
       "      <td>Month - 14</td>\n",
       "      <td>7155515</td>\n",
       "    </tr>\n",
       "    <tr>\n",
       "      <th>14</th>\n",
       "      <td>Month - 15</td>\n",
       "      <td>5934156</td>\n",
       "    </tr>\n",
       "    <tr>\n",
       "      <th>15</th>\n",
       "      <td>Month - 16</td>\n",
       "      <td>6506659</td>\n",
       "    </tr>\n",
       "    <tr>\n",
       "      <th>16</th>\n",
       "      <td>Month - 17</td>\n",
       "      <td>7149383</td>\n",
       "    </tr>\n",
       "    <tr>\n",
       "      <th>17</th>\n",
       "      <td>Month - 18</td>\n",
       "      <td>7083490</td>\n",
       "    </tr>\n",
       "    <tr>\n",
       "      <th>18</th>\n",
       "      <td>Month - 19</td>\n",
       "      <td>6971953</td>\n",
       "    </tr>\n",
       "    <tr>\n",
       "      <th>19</th>\n",
       "      <td>Month - 20</td>\n",
       "      <td>7124599</td>\n",
       "    </tr>\n",
       "    <tr>\n",
       "      <th>20</th>\n",
       "      <td>Month - 21</td>\n",
       "      <td>7389597</td>\n",
       "    </tr>\n",
       "    <tr>\n",
       "      <th>21</th>\n",
       "      <td>Month - 22</td>\n",
       "      <td>7560001</td>\n",
       "    </tr>\n",
       "    <tr>\n",
       "      <th>22</th>\n",
       "      <td>Month - 23</td>\n",
       "      <td>6687919</td>\n",
       "    </tr>\n",
       "    <tr>\n",
       "      <th>23</th>\n",
       "      <td>Month - 24</td>\n",
       "      <td>7784747</td>\n",
       "    </tr>\n",
       "    <tr>\n",
       "      <th>24</th>\n",
       "      <td>Month - 25</td>\n",
       "      <td>6095918</td>\n",
       "    </tr>\n",
       "    <tr>\n",
       "      <th>25</th>\n",
       "      <td>Month - 26</td>\n",
       "      <td>6512360</td>\n",
       "    </tr>\n",
       "    <tr>\n",
       "      <th>26</th>\n",
       "      <td>Month - 27</td>\n",
       "      <td>6267918</td>\n",
       "    </tr>\n",
       "    <tr>\n",
       "      <th>27</th>\n",
       "      <td>Month - 28</td>\n",
       "      <td>7470920</td>\n",
       "    </tr>\n",
       "    <tr>\n",
       "      <th>28</th>\n",
       "      <td>Month - 29</td>\n",
       "      <td>6772277</td>\n",
       "    </tr>\n",
       "  </tbody>\n",
       "</table>\n",
       "</div>"
      ],
      "text/plain": [
       "         Month  Total_Sales\n",
       "0    Month - 1      7022544\n",
       "1    Month - 2      7152303\n",
       "2    Month - 3      6475939\n",
       "3    Month - 4      8174449\n",
       "4    Month - 5      5995328\n",
       "5    Month - 6      7151387\n",
       "6    Month - 7      7287108\n",
       "7    Month - 8      7816299\n",
       "8    Month - 9      6703395\n",
       "9   Month - 10      7128210\n",
       "10  Month - 11      7032783\n",
       "11  Month - 12      6111084\n",
       "12  Month - 13      5925424\n",
       "13  Month - 14      7155515\n",
       "14  Month - 15      5934156\n",
       "15  Month - 16      6506659\n",
       "16  Month - 17      7149383\n",
       "17  Month - 18      7083490\n",
       "18  Month - 19      6971953\n",
       "19  Month - 20      7124599\n",
       "20  Month - 21      7389597\n",
       "21  Month - 22      7560001\n",
       "22  Month - 23      6687919\n",
       "23  Month - 24      7784747\n",
       "24  Month - 25      6095918\n",
       "25  Month - 26      6512360\n",
       "26  Month - 27      6267918\n",
       "27  Month - 28      7470920\n",
       "28  Month - 29      6772277"
      ]
     },
     "execution_count": 8,
     "metadata": {},
     "output_type": "execute_result"
    }
   ],
   "source": [
    "data.loc[:,['Month',\"Total_Sales\"]]"
   ]
  },
  {
   "cell_type": "code",
   "execution_count": 9,
   "id": "7240b26d",
   "metadata": {},
   "outputs": [
    {
     "data": {
      "image/png": "[encoded data removed]",
      "text/plain": [
       "<Figure size 1152x720 with 1 Axes>"
      ]
     },
     "metadata": {
      "needs_background": "light"
     },
     "output_type": "display_data"
    }
   ],
   "source": [
    "#visualising the total sales generated for each month\n",
    "plt.figure(figsize=(16,10))\n",
    "plt.bar(data['Month'],data['Total_Sales'])\n",
    "plt.ylim(0,8500000)\n",
    "plt.xticks(rotation=90)\n",
    "plt.title('Total sales generated for each month')\n",
    "plt.ylabel('Total sales')\n",
    "plt.show()"
   ]
  },
  {
   "cell_type": "markdown",
   "id": "06b1a60e",
   "metadata": {},
   "source": [
    "# Check whether all the zones generate the same amount of sales."
   ]
  },
  {
   "cell_type": "code",
   "execution_count": 10,
   "id": "d0d07b0b",
   "metadata": {},
   "outputs": [],
   "source": [
    "#A one-way ANOVA can be done."
   ]
  },
  {
   "cell_type": "markdown",
   "id": "d92580c0",
   "metadata": {},
   "source": [
    "Null Hypothesis: <br>H0: All the zones generate the same amount of sales. <br>\n",
    "Alternate Hypothesis: <br>Ha: There is a significant difference among the means of the samples."
   ]
  },
  {
   "cell_type": "code",
   "execution_count": 11,
   "id": "6d255e1a",
   "metadata": {},
   "outputs": [],
   "source": [
    "#Deciding level of significance\n",
    "alpha=0.05"
   ]
  },
  {
   "cell_type": "code",
   "execution_count": 12,
   "id": "99878862",
   "metadata": {},
   "outputs": [],
   "source": [
    "#calculating F-statistic and p-value\n",
    "F_stat,p_value=stats.f_oneway(data['Zone - A'],data['Zone - B'],data['Zone - C'],data['Zone - D'])"
   ]
  },
  {
   "cell_type": "code",
   "execution_count": 13,
   "id": "e4657305",
   "metadata": {},
   "outputs": [
    {
     "name": "stdout",
     "output_type": "stream",
     "text": [
      "F statistic =  5.672 \n",
      "p_value =  0.001 \n",
      "alpha =  0.05 \n",
      "Inference:\n",
      "Since, the p-value is lesser than the alpha value, we can reject the null hypothesis.\n",
      "There is a significant difference among the means of the samples.\n"
     ]
    }
   ],
   "source": [
    "if p_value<alpha:\n",
    "    print('F statistic = ',round(F_stat,3),'\\np_value = ',round(p_value,3),'\\nalpha = ',alpha,'\\nInference:\\nSince, the p-value is lesser than the alpha value, we can reject the null hypothesis.\\nThere is a significant difference among the means of the samples.')\n",
    "else:\n",
    "    print('F statistic = ',round(F_stat,3),'\\np_value = ',round(p_value,3),'\\nalpha = ',alpha,'\\nInference:\\nSince, the p-value is higher than the alpha value, we cannot reject the null hypothesis.\\nAll the zones generate the same amount of sales.')"
   ]
  },
  {
   "cell_type": "code",
   "execution_count": 14,
   "id": "34570439",
   "metadata": {},
   "outputs": [
    {
     "data": {
      "text/plain": [
       "<AxesSubplot:>"
      ]
     },
     "execution_count": 14,
     "metadata": {},
     "output_type": "execute_result"
    },
    {
     "data": {
      "image/png": "[encoded data removed]",
      "text/plain": [
       "<Figure size 432x288 with 1 Axes>"
      ]
     },
     "metadata": {
      "needs_background": "light"
     },
     "output_type": "display_data"
    }
   ],
   "source": [
    "#visualising the data\n",
    "data.boxplot(column=['Zone - A','Zone - B','Zone - C','Zone - D'])"
   ]
  },
  {
   "cell_type": "markdown",
   "id": "6de7b6f3",
   "metadata": {},
   "source": [
    "The above box plots supports the results of the ANOVA test.<br> All the zones do not generate the same amount of sales."
   ]
  },
  {
   "cell_type": "code",
   "execution_count": null,
   "id": "3802931f",
   "metadata": {},
   "outputs": [],
   "source": []
  }
 ],
 "metadata": {
  "kernelspec": {
   "display_name": "Python 3",
   "language": "python",
   "name": "python3"
  },
  "language_info": {
   "codemirror_mode": {
    "name": "ipython",
    "version": 3
   },
   "file_extension": ".py",
   "mimetype": "text/x-python",
   "name": "python",
   "nbconvert_exporter": "python",
   "pygments_lexer": "ipython3",
   "version": "3.8.8"
  }
 },
 "nbformat": 4,
 "nbformat_minor": 5
}
